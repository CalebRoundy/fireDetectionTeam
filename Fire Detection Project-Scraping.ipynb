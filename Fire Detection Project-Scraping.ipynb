{
 "cells": [
  {
   "cell_type": "code",
   "execution_count": 1,
   "metadata": {
    "scrolled": true
   },
   "outputs": [],
   "source": [
    "import geopandas as gdp\n",
    "import pandas as pd\n",
    "import numpy as np\n",
    "import rasterio as rio\n",
    "import earthpy as et\n",
    "import earthpy.spatial as es\n",
    "import earthpy.plot as ep\n",
    "import os\n",
    "import matplotlib.pyplot as plt\n",
    "from glob import glob\n",
    "\n",
    "import landsatxplore.api\n",
    "\n"
   ]
  },
  {
   "cell_type": "code",
   "execution_count": 2,
   "metadata": {},
   "outputs": [],
   "source": [
    "# load in username and password for data scraping from EarthExplorer\n",
    "username = \"\" # put usgs username here\n",
    "password = \"\" # put usgs password here"
   ]
  },
  {
   "cell_type": "code",
   "execution_count": 4,
   "metadata": {},
   "outputs": [],
   "source": [
    "# initialize new instance of landsatxplore api\n",
    "api = landsatxplore.api.API(username, password)\n",
    "\n",
    "# make request for files in a certain region\n",
    "#lat = float(input(\"input latitude of area: \"))\n",
    "lat = -30.61\n",
    "#long = float(input(\"input longitude of area: \"))\n",
    "long = 149.02\n",
    "scenes = api.search(dataset='LANDSAT_8_C1', latitude=lat,\n",
    "                   longitude=long)\n",
    "api.logout()"
   ]
  },
  {
   "cell_type": "code",
   "execution_count": 5,
   "metadata": {},
   "outputs": [
    {
     "data": {
      "text/plain": [
       "{'acquisitionDate': '2013-05-27',\n",
       " 'startTime': '2013-05-27',\n",
       " 'endTime': '2013-05-27',\n",
       " 'spatialFootprint': {'type': 'Polygon',\n",
       "  'coordinates': [[[148.23553, -30.91107],\n",
       "    [150.2054, -31.30071],\n",
       "    [150.61002, -29.69619],\n",
       "    [148.67179, -29.3124],\n",
       "    [148.23553, -30.91107]]]},\n",
       " 'sceneBounds': '148.23553,-31.30071,150.61002,-29.3124',\n",
       " 'browseUrl': 'https://ims.cr.usgs.gov/browse/landsat_8_c1/2013/091/081/LC08_L1TP_091081_20130527_20170504_01_T1.jpg',\n",
       " 'dataAccessUrl': 'https://earthexplorer.usgs.gov/order/process?dataset_name=LANDSAT_8_C1&ordered=LC80910812013147LGN01&node=INVSVC',\n",
       " 'downloadUrl': 'https://earthexplorer.usgs.gov/download/external/options/LANDSAT_8_C1/LC80910812013147LGN01/INVSVC/',\n",
       " 'entityId': 'LC80910812013147LGN01',\n",
       " 'displayId': 'LC08_L1TP_091081_20130527_20170504_01_T1',\n",
       " 'cloudCover': 6.03,\n",
       " 'metadataUrl': 'https://earthexplorer.usgs.gov/metadata/xml/12864/LC80910812013147LGN01/',\n",
       " 'fgdcMetadataUrl': 'https://earthexplorer.usgs.gov/fgdc/12864/LC80910812013147LGN01/save_xml',\n",
       " 'modifiedDate': '2017-05-04T06:53:17',\n",
       " 'orderUrl': 'https://earthexplorer.usgs.gov/order/process?dataset_name=LANDSAT_8_C1&ordered=LC80910812013147LGN01&node=INVSVC',\n",
       " 'bulkOrdered': False,\n",
       " 'ordered': False,\n",
       " 'summary': 'Entity ID: LC08_L1TP_091081_20130527_20170504_01_T1, Acquisition Date: 27-MAY-13, Path: 91, Row: 81'}"
      ]
     },
     "execution_count": 5,
     "metadata": {},
     "output_type": "execute_result"
    }
   ],
   "source": [
    "scenes[1]"
   ]
  },
  {
   "cell_type": "code",
   "execution_count": 6,
   "metadata": {},
   "outputs": [
    {
     "name": "stdout",
     "output_type": "stream",
     "text": [
      "       aq_date                             scene_bounds  \\\n",
      "0   2013-04-25  148.28728,-31.30075,150.66374,-29.31246   \n",
      "1   2013-05-27   148.23553,-31.30071,150.61002,-29.3124   \n",
      "2   2013-06-12   148.2605,-31.30071,150.63402,-29.31235   \n",
      "3   2013-06-28  148.25971,-31.35992,150.66474,-29.25326   \n",
      "4   2013-07-14  148.25826,-31.36016,150.66409,-29.25359   \n",
      "5   2013-07-30  148.25545,-31.35993,150.66233,-29.25346   \n",
      "6   2013-08-15  148.25371,-31.35966,150.66096,-29.25327   \n",
      "7   2013-08-31  148.23938,-31.35965,150.64608,-29.25327   \n",
      "8   2013-09-16     148.25288,-31.36,150.65845,-29.25352   \n",
      "9   2013-10-02  148.26203,-31.35992,150.66687,-29.25345   \n",
      "10  2013-10-18   148.26005,-31.35982,150.66463,-29.2534   \n",
      "11  2013-11-03  148.26296,-31.35992,150.66838,-29.25362   \n",
      "12  2013-11-19  148.26838,-31.35956,150.67438,-29.25343   \n",
      "13  2013-12-05   148.2445,-31.35987,150.65113,-29.25384   \n",
      "14  2013-12-21  148.25514,-31.35952,150.66148,-29.25354   \n",
      "15  2014-01-06  148.25742,-31.35985,150.66267,-29.25386   \n",
      "16  2014-01-22  148.26574,-31.35948,150.67022,-29.25347   \n",
      "17  2014-02-07    148.26701,-31.35957,150.671,-29.25363   \n",
      "18  2014-02-23  148.27314,-31.35977,150.67762,-29.25397   \n",
      "19  2014-03-11  148.27048,-31.35943,150.67556,-29.25374   \n",
      "\n",
      "                 entityId                                 displayId  \\\n",
      "0   LC80910812013115LGN02  LC08_L1TP_091081_20130425_20170505_01_T1   \n",
      "1   LC80910812013147LGN01  LC08_L1TP_091081_20130527_20170504_01_T1   \n",
      "2   LC80910812013163LGN01  LC08_L1TP_091081_20130612_20170504_01_T1   \n",
      "3   LC80910812013179LGN01  LC08_L1TP_091081_20130628_20170503_01_T1   \n",
      "4   LC80910812013195LGN01  LC08_L1TP_091081_20130714_20170503_01_T1   \n",
      "5   LC80910812013211LGN01  LC08_L1TP_091081_20130730_20170503_01_T1   \n",
      "6   LC80910812013227LGN01  LC08_L1TP_091081_20130815_20170503_01_T1   \n",
      "7   LC80910812013243LGN01  LC08_L1TP_091081_20130831_20170502_01_T1   \n",
      "8   LC80910812013259LGN01  LC08_L1TP_091081_20130916_20170502_01_T1   \n",
      "9   LC80910812013275LGN02  LC08_L1TP_091081_20131002_20180203_01_T1   \n",
      "10  LC80910812013291LGN01  LC08_L1TP_091081_20131018_20170429_01_T1   \n",
      "11  LC80910812013307LGN01  LC08_L1TP_091081_20131103_20170428_01_T1   \n",
      "12  LC80910812013323LGN01  LC08_L1TP_091081_20131119_20170428_01_T1   \n",
      "13  LC80910812013339LGN01  LC08_L1TP_091081_20131205_20170428_01_T1   \n",
      "14  LC80910812013355LGN01  LC08_L1TP_091081_20131221_20170427_01_T1   \n",
      "15  LC80910812014006LGN01  LC08_L1TP_091081_20140106_20170427_01_T1   \n",
      "16  LC80910812014022LGN01  LC08_L1TP_091081_20140122_20170426_01_T1   \n",
      "17  LC80910812014038LGN01  LC08_L1TP_091081_20140207_20170426_01_T1   \n",
      "18  LC80910812014054LGN02  LC08_L1TP_091081_20140223_20170425_01_T1   \n",
      "19  LC80910812014070LGN01  LC08_L1TP_091081_20140311_20170425_01_T1   \n",
      "\n",
      "    cloudCover                                      Meta_data_Url  \\\n",
      "0         0.00  https://earthexplorer.usgs.gov/fgdc/12864/LC80...   \n",
      "1         6.03  https://earthexplorer.usgs.gov/fgdc/12864/LC80...   \n",
      "2        71.32  https://earthexplorer.usgs.gov/fgdc/12864/LC80...   \n",
      "3        76.41  https://earthexplorer.usgs.gov/fgdc/12864/LC80...   \n",
      "4        85.29  https://earthexplorer.usgs.gov/fgdc/12864/LC80...   \n",
      "5         1.82  https://earthexplorer.usgs.gov/fgdc/12864/LC80...   \n",
      "6         0.01  https://earthexplorer.usgs.gov/fgdc/12864/LC80...   \n",
      "7         3.83  https://earthexplorer.usgs.gov/fgdc/12864/LC80...   \n",
      "8        79.06  https://earthexplorer.usgs.gov/fgdc/12864/LC80...   \n",
      "9        13.17  https://earthexplorer.usgs.gov/fgdc/12864/LC80...   \n",
      "10        0.10  https://earthexplorer.usgs.gov/fgdc/12864/LC80...   \n",
      "11        0.01  https://earthexplorer.usgs.gov/fgdc/12864/LC80...   \n",
      "12       11.47  https://earthexplorer.usgs.gov/fgdc/12864/LC80...   \n",
      "13        0.02  https://earthexplorer.usgs.gov/fgdc/12864/LC80...   \n",
      "14       10.15  https://earthexplorer.usgs.gov/fgdc/12864/LC80...   \n",
      "15        0.76  https://earthexplorer.usgs.gov/fgdc/12864/LC80...   \n",
      "16       87.63  https://earthexplorer.usgs.gov/fgdc/12864/LC80...   \n",
      "17        0.00  https://earthexplorer.usgs.gov/fgdc/12864/LC80...   \n",
      "18        0.02  https://earthexplorer.usgs.gov/fgdc/12864/LC80...   \n",
      "19        3.93  https://earthexplorer.usgs.gov/fgdc/12864/LC80...   \n",
      "\n",
      "          Modified_Date  \n",
      "0   2017-05-04T21:27:07  \n",
      "1   2017-05-04T06:53:17  \n",
      "2   2017-05-03T21:17:09  \n",
      "3   2017-05-03T16:57:52  \n",
      "4   2017-05-03T14:10:13  \n",
      "5   2017-05-03T02:54:02  \n",
      "6   2017-05-02T20:21:10  \n",
      "7   2017-05-02T15:39:59  \n",
      "8   2017-05-02T04:39:26  \n",
      "9   2018-02-03T01:07:03  \n",
      "10  2017-04-29T00:18:45  \n",
      "11  2017-04-28T18:30:17  \n",
      "12  2017-04-28T08:46:52  \n",
      "13  2017-04-27T22:50:02  \n",
      "14  2017-04-27T13:25:24  \n",
      "15  2017-04-26T19:33:35  \n",
      "16  2017-04-26T09:12:29  \n",
      "17  2017-04-25T21:10:11  \n",
      "18  2017-04-25T10:41:55  \n",
      "19  2017-04-25T00:05:38  \n"
     ]
    }
   ],
   "source": [
    "scenes_info = pd.DataFrame()\n",
    "\n",
    "aq_date = []\n",
    "scene_bounds = []\n",
    "entityId = []\n",
    "displayId = []\n",
    "cloudCover = []\n",
    "Meta_data_Url = []\n",
    "Modified_Date = []\n",
    "\n",
    "for scene in scenes:\n",
    "    aq_date.append(scene['acquisitionDate'])\n",
    "    scene_bounds.append(scene['sceneBounds'])\n",
    "    entityId.append(scene['entityId'])\n",
    "    displayId.append(scene['displayId'])\n",
    "    cloudCover.append(scene['cloudCover'])\n",
    "    Meta_data_Url.append(scene['fgdcMetadataUrl'])\n",
    "    Modified_Date.append(scene['modifiedDate'])\n",
    "    \n",
    "scenes_info['aq_date'] = aq_date\n",
    "scenes_info['scene_bounds'] = scene_bounds\n",
    "scenes_info['entityId'] = entityId\n",
    "scenes_info['displayId'] = displayId\n",
    "scenes_info['cloudCover'] = cloudCover\n",
    "scenes_info['Meta_data_Url'] = Meta_data_Url\n",
    "scenes_info['Modified_Date'] = Modified_Date\n",
    "print(scenes_info)"
   ]
  },
  {
   "cell_type": "code",
   "execution_count": 8,
   "metadata": {},
   "outputs": [
    {
     "name": "stdout",
     "output_type": "stream",
     "text": [
      "Input numbers of scenes to download separated by a comma: 0,5,18\n"
     ]
    },
    {
     "name": "stderr",
     "output_type": "stream",
     "text": [
      "827MB [38:20, 377kB/s]                                 \n",
      "857MB [28:18, 529kB/s]                                \n",
      "910MB [43:37, 365kB/s]                                 \n"
     ]
    }
   ],
   "source": [
    "from landsatxplore.earthexplorer import EarthExplorer\n",
    "\n",
    "# get user input on which scenes to download\n",
    "scenums = str(input(\"Input numbers of scenes to download separated by a comma: \"))\n",
    "scenenums = scenums.replace(\" \",\"\").split(\",\")\n",
    "\n",
    "ee = EarthExplorer(username, password)\n",
    "\n",
    "# download user selected scenes\n",
    "for num in scenenums:\n",
    "    ee.download(scene_id=scenes_info['entityId'][int(num)], output_dir='./data')\n",
    "\n",
    "ee.logout()"
   ]
  },
  {
   "cell_type": "code",
   "execution_count": null,
   "metadata": {},
   "outputs": [],
   "source": []
  }
 ],
 "metadata": {
  "kernelspec": {
   "display_name": "Python 3",
   "language": "python",
   "name": "python3"
  },
  "language_info": {
   "codemirror_mode": {
    "name": "ipython",
    "version": 3
   },
   "file_extension": ".py",
   "mimetype": "text/x-python",
   "name": "python",
   "nbconvert_exporter": "python",
   "pygments_lexer": "ipython3",
   "version": "3.7.3"
  }
 },
 "nbformat": 4,
 "nbformat_minor": 2
}
